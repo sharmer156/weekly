{
  "nbformat": 4,
  "nbformat_minor": 0,
  "metadata": {
    "colab": {
      "name": "Untitled19.ipynb",
      "provenance": [],
      "authorship_tag": "ABX9TyN5o5IknRRaGl/ZfDfC5VRX",
      "include_colab_link": true
    },
    "kernelspec": {
      "name": "python3",
      "display_name": "Python 3"
    },
    "accelerator": "GPU"
  },
  "cells": [
    {
      "cell_type": "markdown",
      "metadata": {
        "id": "view-in-github",
        "colab_type": "text"
      },
      "source": [
        "<a href=\"https://colab.research.google.com/github/sharmer156/weekly/blob/master/Image%20Representatio.ipynb\" target=\"_parent\"><img src=\"https://colab.research.google.com/assets/colab-badge.svg\" alt=\"Open In Colab\"/></a>"
      ]
    },
    {
      "cell_type": "code",
      "metadata": {
        "colab": {
          "base_uri": "https://localhost:8080/"
        },
        "id": "1HRMGlsSHwwc",
        "outputId": "b2b30198-b582-41bf-96ae-db470097c023"
      },
      "source": [
        "!gh repo clone yinboc/liif"
      ],
      "execution_count": 1,
      "outputs": [
        {
          "output_type": "stream",
          "text": [
            "/bin/bash: gh: command not found\n"
          ],
          "name": "stdout"
        }
      ]
    },
    {
      "cell_type": "code",
      "metadata": {
        "colab": {
          "base_uri": "https://localhost:8080/"
        },
        "id": "1V-dadoMIC1c",
        "outputId": "113471e1-a197-4cf4-c273-65fc93c32495"
      },
      "source": [
        "!git clone https://github.com/yinboc/liif.git"
      ],
      "execution_count": 2,
      "outputs": [
        {
          "output_type": "stream",
          "text": [
            "Cloning into 'liif'...\n",
            "remote: Enumerating objects: 91, done.\u001b[K\n",
            "remote: Counting objects: 100% (91/91), done.\n",
            "remote: Compressing objects: 100% (43/43), done.\u001b[K\n",
            "remote: Total 91 (delta 52), reused 78 (delta 46), pack-reused 0\u001b[K\n",
            "Unpacking objects: 100% (91/91), done.\n"
          ],
          "name": "stdout"
        }
      ]
    },
    {
      "cell_type": "code",
      "metadata": {
        "colab": {
          "base_uri": "https://localhost:8080/"
        },
        "id": "FkJS2GnWIc2c",
        "outputId": "8453f937-af52-4bb1-a72f-5fa7faa23e15"
      },
      "source": [
        "!wget -O rdn-liif.pth https://www.dropbox.com/s/mzha6ll9kb9bwy0/rdn-liif.pth?dl=0"
      ],
      "execution_count": 3,
      "outputs": [
        {
          "output_type": "stream",
          "text": [
            "--2020-12-18 13:59:52--  https://www.dropbox.com/s/mzha6ll9kb9bwy0/rdn-liif.pth?dl=0\n",
            "Resolving www.dropbox.com (www.dropbox.com)... 162.125.1.18, 2620:100:6016:18::a27d:112\n",
            "Connecting to www.dropbox.com (www.dropbox.com)|162.125.1.18|:443... connected.\n",
            "HTTP request sent, awaiting response... 301 Moved Permanently\n",
            "Location: /s/raw/mzha6ll9kb9bwy0/rdn-liif.pth [following]\n",
            "--2020-12-18 13:59:52--  https://www.dropbox.com/s/raw/mzha6ll9kb9bwy0/rdn-liif.pth\n",
            "Reusing existing connection to www.dropbox.com:443.\n",
            "HTTP request sent, awaiting response... 302 Found\n",
            "Location: https://uc838f556421043b8c777a902295.dl.dropboxusercontent.com/cd/0/inline/BFQth9y-XN1qGXdk-KfozYhtYC08EvKU8rtxAFyInjFVY73wnOdhkO3Y_opLy1OmIonudkXGKEvvw30ywoIpQ9wxoVKvkBFM_BmiC0Bb2UFAWEK4Oe6djxwrHl2nXmu75Nk/file# [following]\n",
            "--2020-12-18 13:59:52--  https://uc838f556421043b8c777a902295.dl.dropboxusercontent.com/cd/0/inline/BFQth9y-XN1qGXdk-KfozYhtYC08EvKU8rtxAFyInjFVY73wnOdhkO3Y_opLy1OmIonudkXGKEvvw30ywoIpQ9wxoVKvkBFM_BmiC0Bb2UFAWEK4Oe6djxwrHl2nXmu75Nk/file\n",
            "Resolving uc838f556421043b8c777a902295.dl.dropboxusercontent.com (uc838f556421043b8c777a902295.dl.dropboxusercontent.com)... 162.125.1.15, 2620:100:6016:15::a27d:10f\n",
            "Connecting to uc838f556421043b8c777a902295.dl.dropboxusercontent.com (uc838f556421043b8c777a902295.dl.dropboxusercontent.com)|162.125.1.15|:443... connected.\n",
            "HTTP request sent, awaiting response... 302 Found\n",
            "Location: /cd/0/inline2/BFRLs2Ci93J9xK4yTObxiS9tWYg7jYWV7MrJ8ORUdhXKYHe49AKbRG13DL0m176N0ZMHd_rkNNrBTiXBzPUhsyasDINCUBlALyX8EdgY6avR9qVFTkN_JA3IK_UX3L-cVNAa83EiVgm1L8NbIKBfaNLEI1iSn1ygOEv7ZY8oyUzdtlgSso2Rvrgm_ejIDnyXQRl1vttPzXcAsIOtryXmFxrA5x3aK_QZUDYR29lYwombTyTW49A0GZxx9-gF_tlDBEvqdDOhBs4VFa1UkXEP_tAWGDdzL4OS6U4fobu9Da1M1AaNgvSU5CJDogQc7UGmZLoQqQDNT3E22NWqG9ouzZsWet8qUXrvU_mwP_CsxfWmmg/file [following]\n",
            "--2020-12-18 13:59:53--  https://uc838f556421043b8c777a902295.dl.dropboxusercontent.com/cd/0/inline2/BFRLs2Ci93J9xK4yTObxiS9tWYg7jYWV7MrJ8ORUdhXKYHe49AKbRG13DL0m176N0ZMHd_rkNNrBTiXBzPUhsyasDINCUBlALyX8EdgY6avR9qVFTkN_JA3IK_UX3L-cVNAa83EiVgm1L8NbIKBfaNLEI1iSn1ygOEv7ZY8oyUzdtlgSso2Rvrgm_ejIDnyXQRl1vttPzXcAsIOtryXmFxrA5x3aK_QZUDYR29lYwombTyTW49A0GZxx9-gF_tlDBEvqdDOhBs4VFa1UkXEP_tAWGDdzL4OS6U4fobu9Da1M1AaNgvSU5CJDogQc7UGmZLoQqQDNT3E22NWqG9ouzZsWet8qUXrvU_mwP_CsxfWmmg/file\n",
            "Reusing existing connection to uc838f556421043b8c777a902295.dl.dropboxusercontent.com:443.\n",
            "HTTP request sent, awaiting response... 200 OK\n",
            "Length: 268184311 (256M) [application/octet-stream]\n",
            "Saving to: ‘rdn-liif.pth’\n",
            "\n",
            "rdn-liif.pth        100%[===================>] 255.76M   138MB/s    in 1.9s    \n",
            "\n",
            "2020-12-18 13:59:56 (138 MB/s) - ‘rdn-liif.pth’ saved [268184311/268184311]\n",
            "\n"
          ],
          "name": "stdout"
        }
      ]
    },
    {
      "cell_type": "code",
      "metadata": {
        "colab": {
          "base_uri": "https://localhost:8080/"
        },
        "id": "d-TKvpHLJNA8",
        "outputId": "12fa4fe1-e50d-4259-c68b-abe6d8933e94"
      },
      "source": [
        "!bash /content/scripts/test-div2k.sh /conten/rdn-liif.pth GPU0"
      ],
      "execution_count": 17,
      "outputs": [
        {
          "output_type": "stream",
          "text": [
            "div2k-x2\n",
            "Traceback (most recent call last):\n",
            "  File \"test.py\", line 106, in <module>\n",
            "    dataset = datasets.make(spec['dataset'])\n",
            "  File \"/content/datasets/datasets.py\", line 20, in make\n",
            "    dataset = datasets[dataset_spec['name']](**dataset_args)\n",
            "  File \"/content/datasets/image_folder.py\", line 80, in __init__\n",
            "    self.dataset_1 = ImageFolder(root_path_1, **kwargs)\n",
            "  File \"/content/datasets/image_folder.py\", line 24, in __init__\n",
            "    filenames = sorted(os.listdir(root_path))\n",
            "FileNotFoundError: [Errno 2] No such file or directory: './load/div2k/DIV2K_valid_LR_bicubic/X2'\n"
          ],
          "name": "stdout"
        }
      ]
    },
    {
      "cell_type": "code",
      "metadata": {
        "colab": {
          "base_uri": "https://localhost:8080/"
        },
        "id": "JXsf8z1bKz_0",
        "outputId": "9d07123d-cd62-4a0e-f276-b73477f87ce4"
      },
      "source": [
        "!pip install -U PyYAML"
      ],
      "execution_count": 16,
      "outputs": [
        {
          "output_type": "stream",
          "text": [
            "Collecting PyYAML\n",
            "\u001b[?25l  Downloading https://files.pythonhosted.org/packages/64/c2/b80047c7ac2478f9501676c988a5411ed5572f35d1beff9cae07d321512c/PyYAML-5.3.1.tar.gz (269kB)\n",
            "\r\u001b[K     |█▏                              | 10kB 25.1MB/s eta 0:00:01\r\u001b[K     |██▍                             | 20kB 20.2MB/s eta 0:00:01\r\u001b[K     |███▋                            | 30kB 11.8MB/s eta 0:00:01\r\u001b[K     |████▉                           | 40kB 9.7MB/s eta 0:00:01\r\u001b[K     |██████                          | 51kB 7.6MB/s eta 0:00:01\r\u001b[K     |███████▎                        | 61kB 7.5MB/s eta 0:00:01\r\u001b[K     |████████▌                       | 71kB 8.5MB/s eta 0:00:01\r\u001b[K     |█████████▊                      | 81kB 9.1MB/s eta 0:00:01\r\u001b[K     |███████████                     | 92kB 8.1MB/s eta 0:00:01\r\u001b[K     |████████████▏                   | 102kB 8.5MB/s eta 0:00:01\r\u001b[K     |█████████████▍                  | 112kB 8.5MB/s eta 0:00:01\r\u001b[K     |██████████████▋                 | 122kB 8.5MB/s eta 0:00:01\r\u001b[K     |███████████████▉                | 133kB 8.5MB/s eta 0:00:01\r\u001b[K     |█████████████████               | 143kB 8.5MB/s eta 0:00:01\r\u001b[K     |██████████████████▎             | 153kB 8.5MB/s eta 0:00:01\r\u001b[K     |███████████████████▌            | 163kB 8.5MB/s eta 0:00:01\r\u001b[K     |████████████████████▊           | 174kB 8.5MB/s eta 0:00:01\r\u001b[K     |██████████████████████          | 184kB 8.5MB/s eta 0:00:01\r\u001b[K     |███████████████████████▏        | 194kB 8.5MB/s eta 0:00:01\r\u001b[K     |████████████████████████▎       | 204kB 8.5MB/s eta 0:00:01\r\u001b[K     |█████████████████████████▌      | 215kB 8.5MB/s eta 0:00:01\r\u001b[K     |██████████████████████████▊     | 225kB 8.5MB/s eta 0:00:01\r\u001b[K     |████████████████████████████    | 235kB 8.5MB/s eta 0:00:01\r\u001b[K     |█████████████████████████████▏  | 245kB 8.5MB/s eta 0:00:01\r\u001b[K     |██████████████████████████████▍ | 256kB 8.5MB/s eta 0:00:01\r\u001b[K     |███████████████████████████████▋| 266kB 8.5MB/s eta 0:00:01\r\u001b[K     |████████████████████████████████| 276kB 8.5MB/s \n",
            "\u001b[?25hBuilding wheels for collected packages: PyYAML\n",
            "  Building wheel for PyYAML (setup.py) ... \u001b[?25l\u001b[?25hdone\n",
            "  Created wheel for PyYAML: filename=PyYAML-5.3.1-cp36-cp36m-linux_x86_64.whl size=44621 sha256=80372a9f4b605c168e805ad6d238eaf259ae00f54eacbfcaa8b3d5f8d4dac67b\n",
            "  Stored in directory: /root/.cache/pip/wheels/a7/c1/ea/cf5bd31012e735dc1dfea3131a2d5eae7978b251083d6247bd\n",
            "Successfully built PyYAML\n",
            "Installing collected packages: PyYAML\n",
            "  Found existing installation: PyYAML 3.13\n",
            "    Uninstalling PyYAML-3.13:\n",
            "      Successfully uninstalled PyYAML-3.13\n",
            "Successfully installed PyYAML-5.3.1\n"
          ],
          "name": "stdout"
        }
      ]
    },
    {
      "cell_type": "code",
      "metadata": {
        "colab": {
          "base_uri": "https://localhost:8080/"
        },
        "id": "5bb2r2cxKYa1",
        "outputId": "1666cca1-6d33-4de6-fb65-3e18f128323a"
      },
      "source": [
        "!pip install TensorboardX"
      ],
      "execution_count": 8,
      "outputs": [
        {
          "output_type": "stream",
          "text": [
            "Collecting TensorboardX\n",
            "\u001b[?25l  Downloading https://files.pythonhosted.org/packages/af/0c/4f41bcd45db376e6fe5c619c01100e9b7531c55791b7244815bac6eac32c/tensorboardX-2.1-py2.py3-none-any.whl (308kB)\n",
            "\r\u001b[K     |█                               | 10kB 22.4MB/s eta 0:00:01\r\u001b[K     |██▏                             | 20kB 14.8MB/s eta 0:00:01\r\u001b[K     |███▏                            | 30kB 12.4MB/s eta 0:00:01\r\u001b[K     |████▎                           | 40kB 12.0MB/s eta 0:00:01\r\u001b[K     |█████▎                          | 51kB 8.2MB/s eta 0:00:01\r\u001b[K     |██████▍                         | 61kB 8.9MB/s eta 0:00:01\r\u001b[K     |███████▍                        | 71kB 8.8MB/s eta 0:00:01\r\u001b[K     |████████▌                       | 81kB 9.1MB/s eta 0:00:01\r\u001b[K     |█████████▌                      | 92kB 9.2MB/s eta 0:00:01\r\u001b[K     |██████████▋                     | 102kB 8.0MB/s eta 0:00:01\r\u001b[K     |███████████▊                    | 112kB 8.0MB/s eta 0:00:01\r\u001b[K     |████████████▊                   | 122kB 8.0MB/s eta 0:00:01\r\u001b[K     |█████████████▉                  | 133kB 8.0MB/s eta 0:00:01\r\u001b[K     |██████████████▉                 | 143kB 8.0MB/s eta 0:00:01\r\u001b[K     |████████████████                | 153kB 8.0MB/s eta 0:00:01\r\u001b[K     |█████████████████               | 163kB 8.0MB/s eta 0:00:01\r\u001b[K     |██████████████████              | 174kB 8.0MB/s eta 0:00:01\r\u001b[K     |███████████████████             | 184kB 8.0MB/s eta 0:00:01\r\u001b[K     |████████████████████▏           | 194kB 8.0MB/s eta 0:00:01\r\u001b[K     |█████████████████████▎          | 204kB 8.0MB/s eta 0:00:01\r\u001b[K     |██████████████████████▎         | 215kB 8.0MB/s eta 0:00:01\r\u001b[K     |███████████████████████▍        | 225kB 8.0MB/s eta 0:00:01\r\u001b[K     |████████████████████████▍       | 235kB 8.0MB/s eta 0:00:01\r\u001b[K     |█████████████████████████▌      | 245kB 8.0MB/s eta 0:00:01\r\u001b[K     |██████████████████████████▌     | 256kB 8.0MB/s eta 0:00:01\r\u001b[K     |███████████████████████████▋    | 266kB 8.0MB/s eta 0:00:01\r\u001b[K     |████████████████████████████▋   | 276kB 8.0MB/s eta 0:00:01\r\u001b[K     |█████████████████████████████▊  | 286kB 8.0MB/s eta 0:00:01\r\u001b[K     |██████████████████████████████▊ | 296kB 8.0MB/s eta 0:00:01\r\u001b[K     |███████████████████████████████▉| 307kB 8.0MB/s eta 0:00:01\r\u001b[K     |████████████████████████████████| 317kB 8.0MB/s \n",
            "\u001b[?25hRequirement already satisfied: protobuf>=3.8.0 in /usr/local/lib/python3.6/dist-packages (from TensorboardX) (3.12.4)\n",
            "Requirement already satisfied: six in /usr/local/lib/python3.6/dist-packages (from TensorboardX) (1.15.0)\n",
            "Requirement already satisfied: numpy in /usr/local/lib/python3.6/dist-packages (from TensorboardX) (1.19.4)\n",
            "Requirement already satisfied: setuptools in /usr/local/lib/python3.6/dist-packages (from protobuf>=3.8.0->TensorboardX) (50.3.2)\n",
            "Installing collected packages: TensorboardX\n",
            "Successfully installed TensorboardX-2.1\n"
          ],
          "name": "stdout"
        }
      ]
    },
    {
      "cell_type": "code",
      "metadata": {
        "colab": {
          "base_uri": "https://localhost:8080/"
        },
        "id": "FbuGp77qKgTk",
        "outputId": "e58b615d-3a7a-4a2a-f5c6-f8e4de3510c1"
      },
      "source": [
        "!pip install yaml\r\n",
        "!pip install numpy \r\n",
        "!pip install tqdm\r\n",
        "!pip install imageio"
      ],
      "execution_count": 10,
      "outputs": [
        {
          "output_type": "stream",
          "text": [
            "\u001b[31mERROR: Could not find a version that satisfies the requirement yaml (from versions: none)\u001b[0m\n",
            "\u001b[31mERROR: No matching distribution found for yaml\u001b[0m\n",
            "Requirement already satisfied: numpy in /usr/local/lib/python3.6/dist-packages (1.19.4)\n",
            "Requirement already satisfied: tqdm in /usr/local/lib/python3.6/dist-packages (4.41.1)\n",
            "Requirement already satisfied: imageio in /usr/local/lib/python3.6/dist-packages (2.4.1)\n",
            "Requirement already satisfied: pillow in /usr/local/lib/python3.6/dist-packages (from imageio) (7.0.0)\n",
            "Requirement already satisfied: numpy in /usr/local/lib/python3.6/dist-packages (from imageio) (1.19.4)\n"
          ],
          "name": "stdout"
        }
      ]
    }
  ]
}